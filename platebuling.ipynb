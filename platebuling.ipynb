{
 "cells": [
  {
   "cell_type": "markdown",
   "metadata": {},
   "source": [
    "# Platebuling \n",
    "\n",
    "<p style=\"text-align:center;\">\n",
    "    ✍️ Lars Erik Nygård  <a href=\"mailto:lars.e.nygard@ntnu.no\">📧</a> 26.02.2024 📅 \n",
    "</p>"
   ]
  }
 ],
 "metadata": {
  "kernelspec": {
   "display_name": "Python 3",
   "language": "python",
   "name": "python3"
  },
  "language_info": {
   "name": "python",
   "version": "3.10.12"
  }
 },
 "nbformat": 4,
 "nbformat_minor": 2
}
